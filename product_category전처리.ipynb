{
  "nbformat": 4,
  "nbformat_minor": 0,
  "metadata": {
    "colab": {
      "private_outputs": true,
      "provenance": [],
      "mount_file_id": "1uF-lhuPn8h2ZaUN9wjxTIHc0m7_0nJ-P",
      "authorship_tag": "ABX9TyMxfbC4VV3vKMoISV9+jKEM",
      "include_colab_link": true
    },
    "kernelspec": {
      "name": "python3",
      "display_name": "Python 3"
    },
    "language_info": {
      "name": "python"
    }
  },
  "cells": [
    {
      "cell_type": "markdown",
      "metadata": {
        "id": "view-in-github",
        "colab_type": "text"
      },
      "source": [
        "<a href=\"https://colab.research.google.com/github/jhk990602/datapractice/blob/main/product_category%EC%A0%84%EC%B2%98%EB%A6%AC.ipynb\" target=\"_parent\"><img src=\"https://colab.research.google.com/assets/colab-badge.svg\" alt=\"Open In Colab\"/></a>"
      ]
    },
    {
      "cell_type": "code",
      "execution_count": null,
      "metadata": {
        "id": "LH01IZfEtbLx"
      },
      "outputs": [],
      "source": [
        "import pandas as pd\n",
        "import numpy as np\n",
        "from sklearn.metrics import (\n",
        "    accuracy_score,\n",
        "    confusion_matrix,\n",
        "    f1_score,\n",
        "    precision_score,\n",
        "    recall_score,\n",
        "    classification_report,\n",
        ")\n",
        "from sklearn.model_selection import train_test_split\n",
        "from sklearn.tree import DecisionTreeClassifier\n",
        "from sklearn.ensemble import RandomForestClassifier\n",
        "from sklearn.preprocessing import LabelEncoder\n",
        "\n",
        "pd.options.display.max_columns = None"
      ]
    },
    {
      "cell_type": "code",
      "source": [
        "data=pd.read_csv('/content/drive/MyDrive/lg/train.csv')"
      ],
      "metadata": {
        "id": "yTJky4c_topi"
      },
      "execution_count": null,
      "outputs": []
    },
    {
      "cell_type": "code",
      "source": [
        "data.head()"
      ],
      "metadata": {
        "id": "3wLb4hkzko5F"
      },
      "execution_count": null,
      "outputs": []
    },
    {
      "cell_type": "code",
      "source": [
        "#other또는 etc.으로갈것>>>other도 etc.으로 가자\n",
        "etc_list=['AI/Machine Learning | Antennas, Transmitters and Towers | Audience Measurement | Cameras and Lenses',\n",
        "            'Architect , We are Meeting for Enqiry Generation ( This is not a Inquiry)','Category','Channel Partner done FTS Details in System','LG SuperSign CMS',\n",
        "          'other포함으로','Thin Clients','Zero Clients','a definir','ahu','aircare','allinone_rmk','autre','corpouh5f','corpuh5f-','ctv','ems,audio/video','energy storage system','error',\n",
        "          'essential series','gsca046','gscd046','gscd100','high inch 86 / 98 or 110','htv','id','inne']\n",
        "#signage라는게 매우매우애매하다. 내생각엔 signage최소 signage끼리묶자. edu는 모델명들이 signage쓰는거인듯 구글링결과\n",
        "signage=['signage포함으로','education createboard','fhd series','high brightness포함']\n",
        "\n",
        "#tv로냅둘지 모니터로갈지 디스플레이로갈지\n",
        "tv=['TV Monitors','comercial tv','commercial tv포함으로']\n",
        "cloud_device=['cloud포함으로']\n",
        "medical_display=['Medical Display포함으','Clinical Review','Diagnostic 포함으로','X-ray포함으로','Monitor De Diagnostico','Surgical Monitors']\n",
        "projector=['project포함으로','ProBeam','bu50nst']\n",
        "#그냥 monitor랑 display로 나뉜거랑 큰 차이없긴한데,\n",
        "monitor=['Ergonomic monitors','IPS Monitors','Monitors for graphics applications & video editing','Monitors with USB-C connection','UHD 4K Monitors',\n",
        "         '32UN880포함으로','34WN780포함으','UltraWide™ Monitors','computer monitors']\n",
        "#hotel tv\n",
        "hotel=['hospitality','hoteleria_us670h',]\n",
        "#lg one:quick series로갈것\n",
        "onequick=['SC-00DA','aio포함으로','idb']\n",
        "heating=['a thermodynamic water heater','aquecimento','calefacción']\n",
        "vrf=['all lg vrf systems']\n",
        "chiller=['chiller포함으로']\n",
        "#가정용에어컨쪽\n",
        "rac=['ac rumah','aire acondicionado residencial','ar condicionado residencial','cac포함으로','climatiseur résidentiel']\n",
        "#'accessories'는 건들지말아보는게?\n",
        "\n",
        "#interactive digital board는 광범위긴함\n",
        "interactive=['collaboration displays']"
      ],
      "metadata": {
        "id": "1UDCEdsea7it"
      },
      "execution_count": null,
      "outputs": []
    },
    {
      "cell_type": "code",
      "source": [],
      "metadata": {
        "id": "nHhxUXu2a7fO"
      },
      "execution_count": null,
      "outputs": []
    },
    {
      "cell_type": "code",
      "source": [],
      "metadata": {
        "id": "Vwn1wpzya7cn"
      },
      "execution_count": null,
      "outputs": []
    },
    {
      "cell_type": "code",
      "source": [],
      "metadata": {
        "id": "BkgfIFxBa7Tm"
      },
      "execution_count": null,
      "outputs": []
    },
    {
      "cell_type": "code",
      "source": [
        "#interactive digital board인것 modelname>>> 55VSM5J,55CT5WJ,75TR3BF-B,GSCC066,43HT3WJ,75TC3D,LG SuperSign CMS,86TR3BF-B,86TR3E,LAS039DB9-V,LSAB009\n",
        "#OneQuick이 들어간게 sub에 있으면 interactive digital board인가?중요 Compact Series,LG MAGNIT,Video Wall\n",
        "#그렇지않았다. quick이 들어간거 중에선 one quick series가 오히려 더 많았다. 그러면 onequick을 어떻게 ???\n",
        "\n",
        "#vrf에는 split계열이 다 들어있는데(에어컨) 정리어떻게할지..\n",
        "#video wall> sub에 video wall 이 있거나.. modelname으로 구별하려했는데, interactive에도jhk19 있던 모델들\n",
        "#product_category 위에 숫자는 모니터를 뜻함. 다 건들필요있을 수도. nan이 19374개\n",
        "#value count를 보면 Interactive Digital Board는 모니터, vrf는 에어컨쪽 multisplit은 에어컨 각방조절? video wall은 큰광고판화면같\n",
        "#lg signage는 애매, single-split도 에어컨 rac도 에어컨쪽 chiller 에어컨부품? 냉매 one quick은 모니터?\n",
        "#data['product_subcategory']와 data['product_category'] 를 비교해서 nan을 채울까\n",
        "#data['product_modelname']랑도 연관 지으려면 지을수있"
      ],
      "metadata": {
        "id": "ud_EQ7JctnKm"
      },
      "execution_count": null,
      "outputs": []
    },
    {
      "cell_type": "code",
      "source": [],
      "metadata": {
        "id": "gl_pLStYps9-"
      },
      "execution_count": null,
      "outputs": []
    },
    {
      "cell_type": "code",
      "source": [
        "##다시생각하자\n",
        "\n",
        "#32un880 UltraFine은 False만 있음. 모니터긴한데 일단 분류안하기로?\n",
        "#pol들어간것들은 코드상정보x\n",
        "#32lq621cbsb.awz도 코드상정보x\n",
        "#awz들어간 많은것들 중엔 hotel tv하나있긴함, bwz도 호텔티비하나\n",
        "#43us는 호텔티비가 대다수\n",
        "#49uh는 standard signage\n",
        "#49vl은 video wall signage\n",
        "#55svh는 video wall signage\n",
        "#55tc3d는 interactive signage,+ 互動式顯示屏가 interactive signage인듯\n",
        "#55vm은 video wall signage\n",
        "#86uh는 standard signage 98uh도 동일\n",
        "#AI, all cloud는 다 false\n",
        "commercialtv_list=['commercial tv']\n",
        "monior_list=['monior/monitor']#monior/monitor\n",
        "onequick_list=['43HT3WJ','55CT5WJ','SC-00DA','lg one:quick']#43ht는 fal 'lg one:quick series'로 등\n",
        "aio_list=['aio']\n",
        "trash_list=['AI/Machine','All Cloud','All Projectors','Architect','Category','Channel','X-ray','Client','corp']#이건 false고 어디 넣기도 애매한것들 other에 넣는게 낫나?\n",
        "monitor_list=['31HN713D','32un880','34WN780','43HT3WJ','49uh / 49xf','28MQ','27Q']#False 비율높은 모니터?\n",
        "interactive_list=['55tc3d']#55tc3d는 true\n",
        "signage_list=['49vl5f','49vl5g','55svh7f','55vm5e-a','55vm5j-h','65EP5G','86uh5f','98uh5e','Signage','SuperSign','gsca046','gscd']#49vl5f는 fal, gsca는 true이긴한데 따로 빼면안되지않나\n",
        "hotel_tv=['awz','43us660h','bwz']#awz,bwz는 hoteltv임. True 비율이 높음\n",
        "videowall_list=['video wall']\n",
        "medicaldisplay_list=['medical display','Clinical Review Monitors','Diagnostic','Surgical']#28mq780는 대부분 medical displays가 많음\n",
        "monitor_list=['Monitor','21HQ513D','32UN8','Ergonomic','IPS','tv','commercial']\n",
        "projector_list=['projector']\n",
        "vrf_list=['vrf']#vrf만으로할까?\n",
        "chiller_list=['chiller']#chiller랑 vrf, split 관계있는듯\n",
        "heating_list=['water','heater']\n",
        "ac_list=['ac rumah','ahu','aire acondicionado residencial','climatiseur résidentiel']#에어컨\n",
        "aircare_list=['aircare']\n",
        "probeam_list=['bu50nst']\n",
        "brightness_list=['brightness']#high brightness로 등록\n",
        "顯示屏_list=['顯示屏']\n",
        "multi_split=['multi split']\n",
        "#autre 는 other일지 지켜보자\n",
        "\n",
        "category_lists = [videowall_list,medicaldisplay_list,monitor_list,projector_list,vrf_list]\n",
        "category_names = ['video wall signage','medical display','monitor','projector','vrf']\n",
        "\n",
        "for i in range(len(category_lists)):\n",
        "    for category in category_lists[i]:\n",
        "        data.loc[data['product_category'].str.contains(category, case=False, na=False), 'product_category'] = category_names[i]"
      ],
      "metadata": {
        "id": "Q4geFj-73CV5"
      },
      "execution_count": null,
      "outputs": []
    },
    {
      "cell_type": "code",
      "source": [],
      "metadata": {
        "id": "soJfwNXh39qA"
      },
      "execution_count": null,
      "outputs": []
    },
    {
      "cell_type": "code",
      "source": [
        "data[['product_category', 'product_subcategory','product_modelname']]"
      ],
      "metadata": {
        "id": "P99q146a-M98"
      },
      "execution_count": null,
      "outputs": []
    },
    {
      "cell_type": "code",
      "source": [
        "data.loc[data['product_subcategory'].isna(), 'product_subcategory'] = data['product_modelname']"
      ],
      "metadata": {
        "id": "LvxajwKuhxdB"
      },
      "execution_count": null,
      "outputs": []
    },
    {
      "cell_type": "code",
      "source": [
        "data.loc[data['product_category'].isna(), 'product_category'] = data['product_subcategory']"
      ],
      "metadata": {
        "id": "WXUn40pDh30Y"
      },
      "execution_count": null,
      "outputs": []
    },
    {
      "cell_type": "code",
      "source": [
        "data['product_category'].isnull().sum()"
      ],
      "metadata": {
        "id": "4DchI199iUR5"
      },
      "execution_count": null,
      "outputs": []
    },
    {
      "cell_type": "code",
      "source": [
        "set(data['product_category'])"
      ],
      "metadata": {
        "id": "I2GSPClJg5HU"
      },
      "execution_count": null,
      "outputs": []
    },
    {
      "cell_type": "code",
      "source": [],
      "metadata": {
        "id": "mSDfO-cag9rf"
      },
      "execution_count": null,
      "outputs": []
    }
  ]
}