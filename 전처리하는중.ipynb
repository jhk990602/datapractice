{
  "nbformat": 4,
  "nbformat_minor": 0,
  "metadata": {
    "colab": {
      "private_outputs": true,
      "provenance": [],
      "mount_file_id": "16PQyh7RLuuK_ry51Wb9BO72eVKglwt3c",
      "authorship_tag": "ABX9TyNAO7T9FA4XooRp9KGE7pOF",
      "include_colab_link": true
    },
    "kernelspec": {
      "name": "python3",
      "display_name": "Python 3"
    },
    "language_info": {
      "name": "python"
    }
  },
  "cells": [
    {
      "cell_type": "markdown",
      "metadata": {
        "id": "view-in-github",
        "colab_type": "text"
      },
      "source": [
        "<a href=\"https://colab.research.google.com/github/jhk990602/datapractice/blob/main/%EC%A0%84%EC%B2%98%EB%A6%AC%ED%95%98%EB%8A%94%EC%A4%91.ipynb\" target=\"_parent\"><img src=\"https://colab.research.google.com/assets/colab-badge.svg\" alt=\"Open In Colab\"/></a>"
      ]
    },
    {
      "cell_type": "code",
      "execution_count": null,
      "metadata": {
        "id": "LH01IZfEtbLx"
      },
      "outputs": [],
      "source": [
        "import pandas as pd\n",
        "import numpy as np\n",
        "from sklearn.metrics import (\n",
        "    accuracy_score,\n",
        "    confusion_matrix,\n",
        "    f1_score,\n",
        "    precision_score,\n",
        "    recall_score,\n",
        "    classification_report,\n",
        ")\n",
        "from sklearn.model_selection import train_test_split\n",
        "from sklearn.tree import DecisionTreeClassifier\n",
        "from sklearn.ensemble import RandomForestClassifier\n",
        "from sklearn.preprocessing import LabelEncoder\n",
        "\n",
        "pd.options.display.max_columns = None"
      ]
    },
    {
      "cell_type": "code",
      "source": [
        "data=pd.read_csv('/content/drive/MyDrive/lg/train.csv')"
      ],
      "metadata": {
        "id": "yTJky4c_topi"
      },
      "execution_count": null,
      "outputs": []
    },
    {
      "cell_type": "code",
      "source": [
        "data.head()"
      ],
      "metadata": {
        "id": "3wLb4hkzko5F"
      },
      "execution_count": null,
      "outputs": []
    },
    {
      "cell_type": "code",
      "source": [
        "# / 슬래시 2개 뒤에 보통 국가이름, 그냥 국가만 적혀있거나 메일형태 or . 으로 나뉜경우도 있\n",
        "#df['연도']=list(map(lambda x : int(x.split(\".\")[0].split()[0].split(\"/\")[0]), df[\"기간\"]))\n",
        "data['clean_country']=data['customer_country'].apply(lambda x : str(x).split('/')[-1])"
      ],
      "metadata": {
        "id": "bzwweP3okmFc"
      },
      "execution_count": null,
      "outputs": []
    },
    {
      "cell_type": "code",
      "source": [
        "#@있는거빼기\n",
        "data.loc[data['clean_country'].str.contains('@', na=False), 'clean_country'] = np.nan"
      ],
      "metadata": {
        "id": "i74aW82mOX-1"
      },
      "execution_count": null,
      "outputs": []
    },
    {
      "cell_type": "code",
      "source": [
        "India_list = ['Anand Vihar Delhi', 'Botswana', 'Chennai', 'Pune', 'Telangana', 'bangalore', 'bhilwara', 'gujarat', 'gurgaon', 'hyderabad', 'indore', 'kerela', 'mumbai', 'odisha', 'uttar pradesh']\n",
        "Spain_list=['ALICANTE','CACERES','GRAN CANARIAS PLAYA DEL INGLES','MADRID','VALENCIA','spain']\n",
        "Brazil_list=['Brazil','Aparecida','Belo Horizonte','Capão da canoa','Centro de Produção Audiovisual - Sesc São Paulo','Cuiabá','Dourados','Foz de Iguaçu - PR Avenida Tancredo Neves 6731 Jardim Itaipu','João Pessoa','Manaus','Recife','Rio de Janeiro','Sao Paulo','São Paulo']\n",
        "Colombia_list=['Barranquilla','Bucaramanga','BOGOTA','Cartagena','colombia']\n",
        "Vietnam_list=['Ha Noi','vietnam']\n",
        "Turkey_list=['Türkiye','Turkey']\n",
        "UAE_list=['UAE Dubai']#U.A.E로 넣어야함\n",
        "Greece_list=['Greece','Θέση Πέτσα Βακαλοπούλου ΒΙΟΠΑ Παλλήνης  153 51']\n",
        "Italy_list=['italy','90044 Carini']\n",
        "Netherlands_list=['Netherlands']\n",
        "CotedIvoire_list=['Ivory Coast']#Cote d'Ivoire 로 등록하자\n",
        "Saint_Kitts_list=['St Kitts'] #Saint Kitts and Nevis로 등록하자\n",
        "Puerto_Rico_list=['Puerto Rico'] #Puerto Rico로 등록하자\n",
        "USA_list=['US','United States','Jacksonville Florida','New Hampshire','Nevada','Ohio','Zip 98433']#United States로 등록하자\n",
        "Peru_list=['PerU']\n",
        "Dominica_list=['Dominican republic']\n",
        "\n",
        "country_lists = [India_list,Spain_list, Brazil_list, Colombia_list, Vietnam_list, Turkey_list, UAE_list, Greece_list,Italy_list,Netherlands_list,CotedIvoire_list,Saint_Kitts_list,Puerto_Rico_list,USA_list,Peru_list,Dominica_list]\n",
        "country_names = ['India','Spain', 'Brazil', 'Colombia', 'Vietnam', 'Turkey', 'U.A.E', 'Greece','Italy','Netherlands',\"Cote d'Ivoire\",'Saint Kitts and Nevis','Puerto Rico','United States','Peru','Dominican Republic']\n",
        "\n",
        "for i in range(len(country_lists)):\n",
        "    for city in country_lists[i]:\n",
        "        data.loc[data['clean_country'].str.contains(city, case=False, na=False), 'clean_country'] = country_names[i]"
      ],
      "metadata": {
        "id": "qM6ntP4_f120"
      },
      "execution_count": null,
      "outputs": []
    },
    {
      "cell_type": "code",
      "source": [
        "#숫자들어간것 다 미국으로 바꾸기\n",
        "data.loc[data['clean_country'].str.contains('\\d', regex=True, na=False), 'clean_country'] = 'United States'\n",
        "#맨앞글자가 공백이면 공백없에기?\n",
        "data['clean_country'] = data['clean_country'].str.lstrip()"
      ],
      "metadata": {
        "id": "UI7Tyr1Yf5wK"
      },
      "execution_count": null,
      "outputs": []
    },
    {
      "cell_type": "code",
      "source": [
        "replace_values = {'A': 'United States', 'BR': 'United States', 'CA': 'United States','ND': 'United States','NY': 'United States','RJ': 'United States'}\n",
        "data['clean_country'] = data['clean_country'].replace(replace_values)\n",
        "replace_value2 = {'country': np.nan, 'lucknow': np.nan,'': np.nan}\n",
        "data['clean_country'] = data['clean_country'].replace(replace_value2)\n",
        "mode_country = data.groupby('response_corporate')['clean_country'].agg(pd.Series.mode).to_dict()\n",
        "\n",
        "# 'clean_country'열의 결측값을 해당 회사의 최빈 국가로 채웁니다.\n",
        "data['clean_country'] = data.apply(\n",
        "    lambda row: mode_country[row['response_corporate']] if pd.isnull(row['clean_country']) else row['clean_country'],\n",
        "    axis=1\n",
        ")"
      ],
      "metadata": {
        "id": "ha7akBcxnqjZ"
      },
      "execution_count": null,
      "outputs": []
    },
    {
      "cell_type": "code",
      "source": [
        "pd.set_option('display.max_rows', None)\n",
        "print(data['clean_country'].value_counts())"
      ],
      "metadata": {
        "id": "D7w4z3C8f_sW"
      },
      "execution_count": null,
      "outputs": []
    },
    {
      "cell_type": "markdown",
      "source": [
        "###Country전처리는 여기까지만 보시면됩니다. 인코딩등 정리는 나중에 한번에 하겠습니다."
      ],
      "metadata": {
        "id": "Jk5jEZ68ED3a"
      }
    },
    {
      "cell_type": "code",
      "source": [
        "data['clean_country'].isnull().sum()"
      ],
      "metadata": {
        "id": "ernsHst552cz"
      },
      "execution_count": null,
      "outputs": []
    },
    {
      "cell_type": "code",
      "source": [],
      "metadata": {
        "id": "B3hSrSTo52ZK"
      },
      "execution_count": null,
      "outputs": []
    },
    {
      "cell_type": "code",
      "source": [],
      "metadata": {
        "id": "-BKNWbnf52We"
      },
      "execution_count": null,
      "outputs": []
    },
    {
      "cell_type": "code",
      "source": [],
      "metadata": {
        "id": "vnRKN7RfD7Vy"
      },
      "execution_count": null,
      "outputs": []
    },
    {
      "cell_type": "code",
      "source": [],
      "metadata": {
        "id": "2at4pppUD7SV"
      },
      "execution_count": null,
      "outputs": []
    },
    {
      "cell_type": "code",
      "source": [],
      "metadata": {
        "id": "zLNob3LvD7P1"
      },
      "execution_count": null,
      "outputs": []
    },
    {
      "cell_type": "code",
      "source": [
        "#interactive digital board인것 modelname>>> 55VSM5J,55CT5WJ,75TR3BF-B,GSCC066,43HT3WJ,75TC3D,LG SuperSign CMS,86TR3BF-B,86TR3E,LAS039DB9-V,LSAB009\n",
        "#OneQuick이 들어간게 sub에 있으면 interactive digital board인가?중요 Compact Series,LG MAGNIT,Video Wall\n",
        "#그렇지않았다. quick이 들어간거 중에선 one quick series가 오히려 더 많았다. 그러면 onequick을 어떻게 ???\n",
        "\n",
        "#vrf에는 split계열이 다 들어있는데(에어컨) 정리어떻게할지..\n",
        "#video wall> sub에 video wall 이 있거나.. modelname으로 구별하려했는데, interactive에도jhk19 있던 모델들"
      ],
      "metadata": {
        "id": "tMvokQUYgDPs"
      },
      "execution_count": null,
      "outputs": []
    },
    {
      "cell_type": "code",
      "source": [],
      "metadata": {
        "id": "seV4CPrSa4A5"
      },
      "execution_count": null,
      "outputs": []
    },
    {
      "cell_type": "code",
      "source": [],
      "metadata": {
        "id": "uVS9iAnEa39h"
      },
      "execution_count": null,
      "outputs": []
    },
    {
      "cell_type": "code",
      "source": [],
      "metadata": {
        "id": "808xELtva37Y"
      },
      "execution_count": null,
      "outputs": []
    },
    {
      "cell_type": "code",
      "source": [],
      "metadata": {
        "id": "wEvqkVeFa35N"
      },
      "execution_count": null,
      "outputs": []
    },
    {
      "cell_type": "code",
      "source": [],
      "metadata": {
        "id": "9dEtuKCfa329"
      },
      "execution_count": null,
      "outputs": []
    },
    {
      "cell_type": "code",
      "source": [],
      "metadata": {
        "id": "chQDpulCa30q"
      },
      "execution_count": null,
      "outputs": []
    },
    {
      "cell_type": "code",
      "source": [],
      "metadata": {
        "id": "QwWECYqLa3yZ"
      },
      "execution_count": null,
      "outputs": []
    },
    {
      "cell_type": "code",
      "source": [],
      "metadata": {
        "id": "BCBKnI-dgDMH"
      },
      "execution_count": null,
      "outputs": []
    },
    {
      "cell_type": "code",
      "source": [],
      "metadata": {
        "id": "ecXVYiGfgDEq"
      },
      "execution_count": null,
      "outputs": []
    },
    {
      "cell_type": "code",
      "source": [],
      "metadata": {
        "id": "q6uRgqF7gDBN"
      },
      "execution_count": null,
      "outputs": []
    },
    {
      "cell_type": "code",
      "source": [],
      "metadata": {
        "id": "UGJy4Nc5gC-f"
      },
      "execution_count": null,
      "outputs": []
    },
    {
      "cell_type": "code",
      "source": [
        "#이메일싹다드랍, 띄어쓰기 자르고, 대소문자 나누고, 도시이름은 그냥 포함해서 날리는것을 디폴트로 생각\n",
        "#그냥 country 드랍\n",
        "#인도\n",
        "#data['clean_country'] = np.where(data['clean_country'].str.contains('Delhi','Chennai','Pune','Telangana','bangalore','bhilwara','gujarat','gurgaon','hyderabad','indore','kerela','mumbai','odisha','uttar pradesh'), 'India', data['clean_country'])\n",
        "\n",
        "india=[' Anand Vihar Delhi',' Botswana',' Chennai',' Pune',' Telangana',' bangalore',' bhilwara',' gujarat',' gurgaon',' hyderabad',' indore',' kerela',' mumbai',' odisha',' uttar pradesh','lucknow','mumbai']\n",
        "\n",
        "\n",
        "#숫자가 들어가지만 미국애매한거 '1605 Ave. Ponce de León, Suite 400 San Juan, 00909, Puerto Rico',\n",
        "Spain_list=['ALICANTE','CACERES','GRAN CANARIAS PLAYA DEL INGLES','MADRID','VALENCIA','spain']\n",
        "Brazil_list=['Brazil','Aparecida','Belo Horizonte','Capão da canoa','Centro de Produção Audiovisual - Sesc São Paulo','Cuiabá','Dourados','Foz de Iguaçu - PR Avenida Tancredo Neves 6731 Jardim Itaipu','João Pessoa','Manaus','Recife','Rio de Janeiro','Sao Paulo','São Paulo']\n",
        "Colombia_list=['Barranquilla','Bucaramanga','BOGOTA','Cartagena','colombia']\n",
        "Vietnam_list=['Ha Noi','vietnam']\n",
        "Turkey_list=['Türkiye','Turkey']\n",
        "UAE_list=['UAE Dubai']#U.A.E로 넣어야함\n",
        "Greece_list=['Greece','Θέση Πέτσα Βακαλοπούλου ΒΙΟΠΑ Παλλήνης  153 51']\n",
        "Italy_list=['italy','90044 Carini']\n",
        "Netherlands_list=['Netherlands']\n",
        "CotedIvoire_list=['Ivory Coast']#Cote d'Ivoire 로 등록하자\n",
        "Saint_Kitts_list=['St Kitts'] #Saint Kitts and Nevis_list로 등록하자\n",
        "Puerto_Rico_list=['Puerto Rico'] #Puerto Rico로 등록하자\n",
        "USA_list=['Jacksonville Florida','New Hampshire','Nevada','Ohio','Zip 98433']\n",
        "\n",
        "#코트디부아르가 Cote d'Ivoire랑 Ivory Coast 2개인것 인\n",
        "#Virgin Islands 포함은 Virgin Islands로 통일? 숫자들어있어서 미리처리필\n",
        "#Italy 포함은 italy로 바꾸는거 까먹x, italy=['90044 Carini']\n",
        "#Netherlands포함은 Netherlands\n",
        "\n",
        "#Saint Kitts and Nevis=St Kitts\n",
        "#US Virgin Islands=그냥 Virgin Islands도 있어서 미국하기전에 따로 빼기\n",
        "#하다보니까 국가가 너무 다양해서 쓸모없을것같다는 생각\n",
        "#Puerto Rico 종류 2개였던듯 다시보기"
      ],
      "metadata": {
        "id": "MaPHusS9Wy7t"
      },
      "execution_count": null,
      "outputs": []
    },
    {
      "cell_type": "code",
      "source": [
        "#결측치를 날려버리면 customer_idx가 연관도가 가장높게 0.6 안날리면 com_reg가 가장 높게 0.6정도로 잡힘\n",
        "#customer_type은 애초에 결측치너무많음 + 채우기애매 + 연관도가 너무낮아서 drop이 나을듯"
      ],
      "metadata": {
        "id": "rh8UT678trhY"
      },
      "execution_count": null,
      "outputs": []
    },
    {
      "cell_type": "code",
      "source": [
        "#필요없어보이는것 > customer_type,id it idit,\n",
        "#inquiry 문의유형은 한번 시간될때 건들여보는것도"
      ],
      "metadata": {
        "id": "2NqBaruvilLU"
      },
      "execution_count": null,
      "outputs": []
    },
    {
      "cell_type": "code",
      "source": [
        "#product_category 위에 숫자는 모니터를 뜻함. 다 건들필요있을 수도. nan이 19374개\n",
        "#value count를 보면 Interactive Digital Board는 모니터, vrf는 에어컨쪽 multisplit은 에어컨 각방조절? video wall은 큰광고판화면같\n",
        "#lg signage는 애매, single-split도 에어컨 rac도 에어컨쪽 chiller 에어컨부품? 냉매 one quick은 모니터?"
      ],
      "metadata": {
        "id": "7teRoUJRsFVI"
      },
      "execution_count": null,
      "outputs": []
    },
    {
      "cell_type": "code",
      "source": [
        "#data['product_subcategory']와 data['product_category'] 를 비교해서 nan을 채울까\n",
        "#data['product_modelname']랑도 연관 지으려면 지을수있"
      ],
      "metadata": {
        "id": "2WzgX4ihsh04"
      },
      "execution_count": null,
      "outputs": []
    },
    {
      "cell_type": "code",
      "source": [
        "#null값이 있지만 국가로 나눌지, response_corporate로 법인으로 채워넣을지\n",
        "#businerss_area를 쓸필요가있나 엮으려면 엮는데\n"
      ],
      "metadata": {
        "id": "yWxHficxy7rV"
      },
      "execution_count": null,
      "outputs": []
    },
    {
      "cell_type": "code",
      "source": [
        "set(data['product_category'])"
      ],
      "metadata": {
        "id": "M4GPYzxK-LEW"
      },
      "execution_count": null,
      "outputs": []
    },
    {
      "cell_type": "code",
      "source": [
        "data[['product_category', 'product_subcategory','product_modelname']]"
      ],
      "metadata": {
        "id": "P99q146a-M98"
      },
      "execution_count": null,
      "outputs": []
    },
    {
      "cell_type": "code",
      "source": [
        "data['product_category'].isnull().sum()"
      ],
      "metadata": {
        "id": "OkUxjaEiiHRs"
      },
      "execution_count": null,
      "outputs": []
    },
    {
      "cell_type": "code",
      "source": [
        "data.loc[data['product_subcategory'].isna(), 'product_subcategory'] = data['product_modelname']"
      ],
      "metadata": {
        "id": "LvxajwKuhxdB"
      },
      "execution_count": null,
      "outputs": []
    },
    {
      "cell_type": "code",
      "source": [
        "data.loc[data['product_category'].isna(), 'product_category'] = data['product_subcategory']"
      ],
      "metadata": {
        "id": "WXUn40pDh30Y"
      },
      "execution_count": null,
      "outputs": []
    },
    {
      "cell_type": "code",
      "source": [
        "data['product_category'].isnull().sum()"
      ],
      "metadata": {
        "id": "4DchI199iUR5"
      },
      "execution_count": null,
      "outputs": []
    },
    {
      "cell_type": "code",
      "source": [
        "set(data['product_category'])"
      ],
      "metadata": {
        "id": "I2GSPClJg5HU"
      },
      "execution_count": null,
      "outputs": []
    },
    {
      "cell_type": "code",
      "source": [],
      "metadata": {
        "id": "mSDfO-cag9rf"
      },
      "execution_count": null,
      "outputs": []
    }
  ]
}