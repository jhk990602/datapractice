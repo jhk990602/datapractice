{
  "nbformat": 4,
  "nbformat_minor": 0,
  "metadata": {
    "colab": {
      "provenance": [],
      "authorship_tag": "ABX9TyPRr7wb3dXKLwwGwy8KsKPo",
      "include_colab_link": true
    },
    "kernelspec": {
      "name": "python3",
      "display_name": "Python 3"
    },
    "language_info": {
      "name": "python"
    }
  },
  "cells": [
    {
      "cell_type": "markdown",
      "metadata": {
        "id": "view-in-github",
        "colab_type": "text"
      },
      "source": [
        "<a href=\"https://colab.research.google.com/github/jhk990602/datapractice/blob/main/RandomForest%2CExtraTree%2CGradientBoosting.ipynb\" target=\"_parent\"><img src=\"https://colab.research.google.com/assets/colab-badge.svg\" alt=\"Open In Colab\"/></a>"
      ]
    },
    {
      "cell_type": "code",
      "execution_count": 3,
      "metadata": {
        "id": "Vj5OhrViQs5i"
      },
      "outputs": [],
      "source": [
        "#정형데이터를 다루는 데 가장 뛰어난 성과를 내는 알고리즘이 앙상블 학습, 앙상블 학습을 적용할 때 가장 먼저 랜덤 포레스트 시도 추천?\n",
        "#부트스트랩방식> 가방에 1000개의 샘플이 있을 때 먼저 1개를 뽑고, 다시 가방에 넣어 그 다음 샘플을 뽑는 방식\n",
        "import numpy as np\n",
        "import pandas as pd\n",
        "from sklearn.model_selection import train_test_split\n",
        "wine = pd.read_csv('https://bit.ly/wine-date')\n",
        "data = wine[['alcohol','sugar','pH']].to_numpy()\n",
        "target = wine['class'].to_numpy()\n",
        "train_input,test_input,train_target,test_target = train_test_split(data,target,test_size=0.2,random_state=42)"
      ]
    },
    {
      "cell_type": "code",
      "source": [
        "#cross_validate()함수를 사용해 교차검증, RandomForestClassifier는 기본적으로 100개의 결정 트리를 사용하므로 n_jobs 매개변수를 -1로 지정하여 CPU사용하는 것이 좋음\n",
        "from sklearn.model_selection import cross_validate\n",
        "from sklearn.ensemble import RandomForestClassifier\n",
        "rf = RandomForestClassifier(n_jobs=-1, random_state=42)\n",
        "scores = cross_validate(rf, train_input, train_target, return_train_score = True, n_jobs= -1) #retrun_train_score 매개변수를 True로 지정하면 검증점수 뿐만 아니라 훈련세트에 대한 점수도 반환\n",
        "print(np.mean(scores['train_score']),np.mean(scores['test_score']))"
      ],
      "metadata": {
        "colab": {
          "base_uri": "https://localhost:8080/"
        },
        "id": "-txDh2iIcix6",
        "outputId": "0e92ced7-e787-4cc3-fa39-854a5cd7c762"
      },
      "execution_count": 7,
      "outputs": [
        {
          "output_type": "stream",
          "name": "stdout",
          "text": [
            "0.9973541965122431 0.8905151032797809\n"
          ]
        }
      ]
    },
    {
      "cell_type": "code",
      "source": [
        "#랜덤포레스트는 결정트리의 앙상블이기에 DecisionTreeClassifier가 제공하는 중요 매개변수 모두제공, 랜덤포레스트의 특성 중요도는 각 결정 트리의 특성 중요도를 취합한것\n",
        "rf.fit(train_input, train_target)\n",
        "print(rf.feature_importances_)"
      ],
      "metadata": {
        "colab": {
          "base_uri": "https://localhost:8080/"
        },
        "id": "FFF4IvmRxoPZ",
        "outputId": "bb2d017b-2116-48d0-8f2f-a8c7c8101b7a"
      },
      "execution_count": 8,
      "outputs": [
        {
          "output_type": "stream",
          "name": "stdout",
          "text": [
            "[0.23167441 0.50039841 0.26792718]\n"
          ]
        }
      ]
    },
    {
      "cell_type": "code",
      "source": [
        "#RandomForestClassifier에는 자체적으로 모델을 평가하는 점수를 얻을 수 있다. 부트스트랩 샘플에 포함되지 않고 남는 샘플을 사용하여 부트스트램 샘플로 훈련한 결증 트리를 평가(검증세트역할)\n",
        "rf = RandomForestClassifier(oob_score = True, n_jobs=-1, random_state=42)\n",
        "rf.fit(train_input, train_target)\n",
        "print(rf.oob_score_)  #oob_score매개변수를 True로 지정하면, 각 결정트리의 OOB 점수를 평균하여 출력"
      ],
      "metadata": {
        "colab": {
          "base_uri": "https://localhost:8080/"
        },
        "id": "_9juB5Ig5qaK",
        "outputId": "64b3f31e-2312-41e8-eec1-70ce820c8d70"
      },
      "execution_count": 10,
      "outputs": [
        {
          "output_type": "stream",
          "name": "stdout",
          "text": [
            "0.8934000384837406\n"
          ]
        }
      ]
    },
    {
      "cell_type": "markdown",
      "source": [
        "랜덤포레스트와 엑스트라트리의 차이점은 부트스트랩샘플을 사용하지 않는다는점, 결정트리를 만들때 전체 훈련 세트를 사용, 대신 노드를 분할할때 가장 좋은 분할을 찾는 것이 아니라 무작위로 분할"
      ],
      "metadata": {
        "id": "5T_u4AQXH5XX"
      }
    },
    {
      "cell_type": "code",
      "source": [
        "#엑스트리트리는 하나의 결정트리에서 특성을 무작위로 분할한다면 성능이 낮아지겠지만, 많은트리를 앙상블하기때문에 과대적합을 막고 검증세트의 점수를 높이는 효과가 있음\n",
        "from sklearn.ensemble import ExtraTreesClassifier\n",
        "et = ExtraTreesClassifier(n_jobs=-1, random_state=42)\n",
        "scores = cross_validate(et,train_input, train_target, return_train_score=True, n_jobs=-1)\n",
        "print(np.mean(scores['train_score']),np.mean(scores['test_score']))"
      ],
      "metadata": {
        "colab": {
          "base_uri": "https://localhost:8080/"
        },
        "id": "LmIDiY5rIJ2K",
        "outputId": "750f2f5e-f1a6-4cc4-b3a3-dcbac18c0908"
      },
      "execution_count": 11,
      "outputs": [
        {
          "output_type": "stream",
          "name": "stdout",
          "text": [
            "0.9974503966084433 0.8887848893166506\n"
          ]
        }
      ]
    },
    {
      "cell_type": "code",
      "source": [
        "#엑스트라 트리도 랜덤포레스트와 마찬가지로 특성 중요도를 제공,\n",
        "et.fit(train_input, train_target)\n",
        "print(et.feature_importances_)"
      ],
      "metadata": {
        "colab": {
          "base_uri": "https://localhost:8080/"
        },
        "id": "02uIr7DoIpRb",
        "outputId": "c018cbd0-1ea3-4a2b-ae18-cf39b5b61160"
      },
      "execution_count": 12,
      "outputs": [
        {
          "output_type": "stream",
          "name": "stdout",
          "text": [
            "[0.20183568 0.52242907 0.27573525]\n"
          ]
        }
      ]
    },
    {
      "cell_type": "code",
      "source": [
        "#그레이디언트 부스팅은 깊이가 얕은 결정 트리를 사용하여 이전 트리의 오차를 보완하는 방식으로 앙상블하는 방법, 기본적으로 깊이가 3인 결정트리를 100개 사용\n",
        "#깊이가 얕은 결정트리를 사용하기 때문에 과대적합에 강하고 일반적으로 높은 일반화 성능기대\n",
        "from sklearn.ensemble import GradientBoostingClassifier\n",
        "gb=GradientBoostingClassifier(random_state=42)\n",
        "scores = cross_validate(gb, train_input, train_target, return_train_score =True, n_jobs = -1)\n",
        "print(np.mean(scores['train_score']),np.mean(scores['test_score']))"
      ],
      "metadata": {
        "colab": {
          "base_uri": "https://localhost:8080/"
        },
        "id": "SMysZZYAI3Iy",
        "outputId": "bacc950b-6557-4f28-c092-ad26e84d1237"
      },
      "execution_count": 15,
      "outputs": [
        {
          "output_type": "stream",
          "name": "stdout",
          "text": [
            "0.8881086892152563 0.8720430147331015\n"
          ]
        }
      ]
    },
    {
      "cell_type": "markdown",
      "source": [
        "거의 과대적합이 되지 않았음, 그레이디언트 부스팅은 결정 트리의 개수를 늘려도 과대적합에 매우 강함"
      ],
      "metadata": {
        "id": "uNkA8N2UZYEg"
      }
    },
    {
      "cell_type": "code",
      "source": [
        "#학습률을 증가시키고, 트리의 개수를 늘리면 조금 더 성능이 향상될 수 있음\n",
        "gb = GradientBoostingClassifier(n_estimators=500, learning_rate=0.2, random_state=42) #학습률(learning_rate의 기본값은 0.1)\n",
        "scores = cross_validate(gb,train_input, train_target,return_train_score = True, n_jobs=-1)\n",
        "print(np.mean(scores['train_score']),np.mean(scores['test_score']))"
      ],
      "metadata": {
        "colab": {
          "base_uri": "https://localhost:8080/"
        },
        "id": "bFThoDGqY7Zp",
        "outputId": "8680d198-79d2-4073-a728-55b55a1dff5a"
      },
      "execution_count": 16,
      "outputs": [
        {
          "output_type": "stream",
          "name": "stdout",
          "text": [
            "0.9464595437171814 0.8780082549788999\n"
          ]
        }
      ]
    },
    {
      "cell_type": "markdown",
      "source": [
        "결정 트리 개수를 500개로 5배나 늘렸지만 과대적합을 잘 억제"
      ],
      "metadata": {
        "id": "mp7vaiYab0LE"
      }
    },
    {
      "cell_type": "code",
      "source": [
        "#그레이디언트 부스팅도 특성 중요도를 제공\n",
        "gb.fit(train_input, train_target)\n",
        "print(gb.feature_importances_)"
      ],
      "metadata": {
        "colab": {
          "base_uri": "https://localhost:8080/"
        },
        "id": "71WzzC1VaAjM",
        "outputId": "5674dba6-d7b9-4398-ad1e-82552a30003e"
      },
      "execution_count": 17,
      "outputs": [
        {
          "output_type": "stream",
          "name": "stdout",
          "text": [
            "[0.15872278 0.68010884 0.16116839]\n"
          ]
        }
      ]
    },
    {
      "cell_type": "code",
      "source": [
        "#히스토그램 기반 그레이디언트 부스팅은 정형 데이터를 다루는 머신러닝 알고리즘 중에 갖아 인기가 높은 알고리즘,\n",
        "#이는 먼저 입력특성을 256개의 구간으로 나눔, 따라서 노드를 분할할때 최적의 분할을 매우 빠르게 찾을 수 있음.\n",
        "#256개의 구간 중에서 하나를 떼어놓고 누락된 값을 위해서 사용, 따라서 누락된 특성이 있떠라도 이를 따로 전처리할 필요가 없음\n",
        "from sklearn.experimental import enable_hist_gradient_boosting\n",
        "from sklearn.ensemble import HistGradientBoostingClassifier\n",
        "hgb = HistGradientBoostingClassifier(random_state = 42)\n",
        "scores = cross_validate(hgb,train_input, train_target,return_train_score =True)\n",
        "print(np.mean(scores['train_score']),np.mean(scores['test_score']))"
      ],
      "metadata": {
        "colab": {
          "base_uri": "https://localhost:8080/"
        },
        "id": "s4CjKwzgcCAD",
        "outputId": "6ce46a1d-4f09-4246-9a45-3938c16cf84d"
      },
      "execution_count": 18,
      "outputs": [
        {
          "output_type": "stream",
          "name": "stderr",
          "text": [
            "/usr/local/lib/python3.10/dist-packages/sklearn/experimental/enable_hist_gradient_boosting.py:16: UserWarning: Since version 1.0, it is not needed to import enable_hist_gradient_boosting anymore. HistGradientBoostingClassifier and HistGradientBoostingRegressor are now stable and can be normally imported from sklearn.ensemble.\n",
            "  warnings.warn(\n"
          ]
        },
        {
          "output_type": "stream",
          "name": "stdout",
          "text": [
            "0.9321723946453317 0.8801241948619236\n"
          ]
        }
      ]
    },
    {
      "cell_type": "code",
      "source": [
        "#히스토그램 기반 그레이디언트 부스팅의 특성 중요도를 계산하기 위해 permutation_importance() 함수를 사용 > 특성을 하나씩 랜덤하게 섞어서 모델의 성능이 변화하는지 관찰하여 어느특성이 중요한지\n",
        "from sklearn.inspection import permutation_importance\n",
        "hgb.fit(train_input, train_target)\n",
        "result = permutation_importance(hgb,train_input,train_target,n_repeats=10,random_state=42,n_jobs=-1) #n_repeat는 랜덤하게 섞을 횟수지정\n",
        "print(result.importances_mean)"
      ],
      "metadata": {
        "colab": {
          "base_uri": "https://localhost:8080/"
        },
        "id": "6Z8dOEZXqi4D",
        "outputId": "bd0ffa0b-b589-42d9-a22d-558f23bab7eb"
      },
      "execution_count": 19,
      "outputs": [
        {
          "output_type": "stream",
          "name": "stdout",
          "text": [
            "[0.08876275 0.23438522 0.08027708]\n"
          ]
        }
      ]
    },
    {
      "cell_type": "markdown",
      "source": [
        "permutation_importance()함수가 반환하는 객체는 반복하여 얻은 특성 중요도,평균,표준편차를 담고있음"
      ],
      "metadata": {
        "id": "2ku-v9uHrWrj"
      }
    },
    {
      "cell_type": "code",
      "source": [
        "result = permutation_importance(hgb,test_input,test_target,n_repeats=10, random_state=42,n_jobs=-1)\n",
        "print(result.importances_mean)"
      ],
      "metadata": {
        "colab": {
          "base_uri": "https://localhost:8080/"
        },
        "id": "QsWfpUNFrP62",
        "outputId": "09406ea6-8946-422e-8da6-d66cfbe85e67"
      },
      "execution_count": 21,
      "outputs": [
        {
          "output_type": "stream",
          "name": "stdout",
          "text": [
            "[0.05969231 0.20238462 0.049     ]\n"
          ]
        }
      ]
    },
    {
      "cell_type": "code",
      "source": [
        "#테스트 세트에서의 성능확인\n",
        "hgb.score(test_input,test_target)"
      ],
      "metadata": {
        "colab": {
          "base_uri": "https://localhost:8080/"
        },
        "id": "dXftzK1Zr0Zr",
        "outputId": "78d9fad3-b0e7-4679-be9b-1f7a0967d164"
      },
      "execution_count": 22,
      "outputs": [
        {
          "output_type": "execute_result",
          "data": {
            "text/plain": [
              "0.8723076923076923"
            ]
          },
          "metadata": {},
          "execution_count": 22
        }
      ]
    },
    {
      "cell_type": "code",
      "source": [
        "#사이킷런라이브러리 말고도, XGBoost로도 히스토그램기반그레이디언트 부스팅 알고리즘을 구현가능\n",
        "from xgboost import XGBClassifier\n",
        "xgb=XGBClassifier(tree_method='hist',random_state=42)\n",
        "scores= cross_validate(xgb,train_input, train_target,return_train_score=True)\n",
        "print(np.mean(scores['train_score']),np.mean(scores['test_score']))"
      ],
      "metadata": {
        "colab": {
          "base_uri": "https://localhost:8080/"
        },
        "id": "2vNmuxhDsOwz",
        "outputId": "8633e178-0e70-40a7-f11e-cfd34fe42c5a"
      },
      "execution_count": 25,
      "outputs": [
        {
          "output_type": "stream",
          "name": "stdout",
          "text": [
            "0.9555033709953124 0.8799326275264677\n"
          ]
        }
      ]
    },
    {
      "cell_type": "code",
      "source": [
        "#널리 사용하는 또 다른 히스토그램 기반 그레이디언트 부스팅 라이브러리는 LightGBM\n",
        "from lightgbm import LGBMClassifier\n",
        "lgb = LGBMClassifier(random_state = 42)\n",
        "scores = cross_validate(lgb,train_input,train_target,return_train_score=True,n_jobs=-1)\n",
        "print(np.mean(scores['train_score']),np.mean(scores['test_score']))"
      ],
      "metadata": {
        "colab": {
          "base_uri": "https://localhost:8080/"
        },
        "id": "EV0Zn6ZLs1PA",
        "outputId": "8ef74064-3033-4671-ca09-bbccaf5832d7"
      },
      "execution_count": 27,
      "outputs": [
        {
          "output_type": "stream",
          "name": "stdout",
          "text": [
            "0.935828414851749 0.8801251203079884\n"
          ]
        }
      ]
    }
  ]
}